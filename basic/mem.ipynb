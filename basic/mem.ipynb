{
 "cells": [
  {
   "cell_type": "code",
   "execution_count": null,
   "metadata": {},
   "outputs": [],
   "source": [
    "import torch\n",
    "import torch.nn as nn"
   ]
  },
  {
   "cell_type": "code",
   "execution_count": 1,
   "metadata": {},
   "outputs": [],
   "source": [
    "def printmb(obj):\n",
    "    print(f'{obj / 1024 / 1024} MB')\n",
    "\n",
    "def printm():\n",
    "    printmb(torch.cuda.memory_allocated())\n",
    "    printmb(torch.cuda.memory_reserved())"
   ]
  },
  {
   "cell_type": "code",
   "execution_count": null,
   "metadata": {},
   "outputs": [],
   "source": [
    "model = nn.Linear(1024, 1024, bias=False).cuda()\n",
    "printm()"
   ]
  },
  {
   "cell_type": "code",
   "execution_count": null,
   "metadata": {},
   "outputs": [],
   "source": [
    "inputs = torch.tensor([1.0]*1024).cuda()  # shape = (1024)  memory + 4096\n",
    "outputs = model(inputs)\n",
    "printm()"
   ]
  },
  {
   "cell_type": "code",
   "execution_count": null,
   "metadata": {},
   "outputs": [],
   "source": [
    "loss = sum(outputs)  # memory + 512(torch allocate分配最小单位)\n",
    "temp = torch.cuda.memory_allocated()\n",
    "loss.backward()\n",
    "printmb(torch.cuda.memory_allocated() - temp)  # 第一次增加4194304"
   ]
  },
  {
   "cell_type": "code",
   "execution_count": 2,
   "metadata": {},
   "outputs": [
    {
     "name": "stdout",
     "output_type": "stream",
     "text": [
      "4.0 MB\n",
      "4.00390625 MB\n",
      "8.00390625 MB\n",
      "12.00439453125 MB\n",
      "12.00830078125 MB\n",
      "16.00830078125 MB\n",
      "12.00830078125 MB\n"
     ]
    }
   ],
   "source": [
    "import torch\n",
    "\n",
    "\n",
    "# 模型初始化\n",
    "linear1 = torch.nn.Linear(1024, 1024, bias=False).cuda()  # + 4194304\n",
    "printmb(torch.cuda.memory_allocated())\n",
    "linear2 = torch.nn.Linear(1024, 1, bias=False).cuda()  # + 4096\n",
    "printmb(torch.cuda.memory_allocated())\n",
    "\n",
    "# 输入定义\n",
    "# shape = (1024,1024) # + 4194304\n",
    "inputs = torch.tensor([[1.0]*1024]*1024).cuda()\n",
    "printmb(torch.cuda.memory_allocated())\n",
    "\n",
    "# 前向传播\n",
    "loss = sum(linear2(linear1(inputs)))  # shape = (1) # memory + 4194304 + 512\n",
    "printmb(torch.cuda.memory_allocated())\n",
    "\n",
    "# 后向传播\n",
    "loss.backward()  # memory - 4194304 + 4194304 + 4096\n",
    "printmb(torch.cuda.memory_allocated())\n",
    "\n",
    "# 再来一次~\n",
    "# shape = (1) # memory + 4194304  (512没了，因为loss的ref还在)\n",
    "loss = sum(linear2(linear1(inputs)))\n",
    "printmb(torch.cuda.memory_allocated())\n",
    "loss.backward()  # memory - 4194304\n",
    "printmb(torch.cuda.memory_allocated())"
   ]
  }
 ],
 "metadata": {
  "interpreter": {
   "hash": "4865490da6699370054a893614d25bfe7019e07f85c7b294178de45e1c56cb00"
  },
  "kernelspec": {
   "display_name": "Python 3.9.7 64-bit",
   "language": "python",
   "name": "python3"
  },
  "language_info": {
   "codemirror_mode": {
    "name": "ipython",
    "version": 3
   },
   "file_extension": ".py",
   "mimetype": "text/x-python",
   "name": "python",
   "nbconvert_exporter": "python",
   "pygments_lexer": "ipython3",
   "version": "3.9.7"
  },
  "orig_nbformat": 4
 },
 "nbformat": 4,
 "nbformat_minor": 2
}
