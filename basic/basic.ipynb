{
 "cells": [
  {
   "cell_type": "code",
   "execution_count": 35,
   "metadata": {},
   "outputs": [],
   "source": [
    "import torch\n",
    "from torch import einsum\n",
    "import torch.nn as nn\n",
    "import numpy as np\n",
    "import matplotlib.pyplot as plt\n",
    "from vit_pytorch.max_vit import MaxViT, MBConv\n",
    "from einops import rearrange"
   ]
  },
  {
   "cell_type": "code",
   "execution_count": 52,
   "metadata": {},
   "outputs": [],
   "source": [
    "# pool = nn.MaxPool2d(kernel_size=2, stride=2)\n",
    "pool = nn.AvgPool2d(kernel_size=2, stride=2)"
   ]
  },
  {
   "cell_type": "code",
   "execution_count": 53,
   "metadata": {},
   "outputs": [
    {
     "data": {
      "text/plain": [
       "torch.Size([1, 1, 12, 12])"
      ]
     },
     "execution_count": 53,
     "metadata": {},
     "output_type": "execute_result"
    }
   ],
   "source": [
    "x = torch.randn(1, 1, 24, 24)\n",
    "pool(x).shape"
   ]
  },
  {
   "cell_type": "code",
   "execution_count": 51,
   "metadata": {},
   "outputs": [
    {
     "data": {
      "text/plain": [
       "torch.Size([1, 2, 3])"
      ]
     },
     "execution_count": 51,
     "metadata": {},
     "output_type": "execute_result"
    }
   ],
   "source": [
    "x = torch.randn(2, 3)\n",
    "torch.stack([x]).shape"
   ]
  },
  {
   "cell_type": "code",
   "execution_count": 20,
   "metadata": {},
   "outputs": [],
   "source": [
    "window_size = 7\n",
    "pos = torch.arange(window_size)\n",
    "grid = torch.stack(torch.meshgrid(pos, pos, indexing = 'ij')) # (2, 7, 7)\n",
    "grid = rearrange(grid, 'c i j -> (i j) c') # (49, 2)\n",
    "rel_pos = rearrange(grid, 'i ... -> i 1 ...') - rearrange(grid, 'j ... -> 1 j ...')\n",
    "rel_pos += window_size - 1\n",
    "rel_pos_indices = (rel_pos * torch.tensor([2 * window_size - 1, 1])).sum(dim = -1)"
   ]
  },
  {
   "cell_type": "code",
   "execution_count": 21,
   "metadata": {},
   "outputs": [
    {
     "data": {
      "text/plain": [
       "torch.Size([49, 49])"
      ]
     },
     "execution_count": 21,
     "metadata": {},
     "output_type": "execute_result"
    }
   ],
   "source": [
    "rel_pos_indices.shape"
   ]
  },
  {
   "cell_type": "code",
   "execution_count": 22,
   "metadata": {},
   "outputs": [],
   "source": [
    "rel_pos_bias = nn.Embedding((2 * window_size - 1) ** 2, 4)"
   ]
  },
  {
   "cell_type": "code",
   "execution_count": 23,
   "metadata": {},
   "outputs": [
    {
     "data": {
      "text/plain": [
       "torch.Size([49, 49, 4])"
      ]
     },
     "execution_count": 23,
     "metadata": {},
     "output_type": "execute_result"
    }
   ],
   "source": [
    "bias = rel_pos_bias(rel_pos_indices)\n",
    "bias.shape"
   ]
  },
  {
   "cell_type": "code",
   "execution_count": 24,
   "metadata": {},
   "outputs": [
    {
     "data": {
      "text/plain": [
       "torch.Size([49, 49])"
      ]
     },
     "execution_count": 24,
     "metadata": {},
     "output_type": "execute_result"
    }
   ],
   "source": [
    "rel_pos_indices.shape"
   ]
  },
  {
   "cell_type": "code",
   "execution_count": 25,
   "metadata": {},
   "outputs": [
    {
     "data": {
      "text/plain": [
       "torch.Size([49, 1, 2])"
      ]
     },
     "execution_count": 25,
     "metadata": {},
     "output_type": "execute_result"
    }
   ],
   "source": [
    "rearrange(grid, 'i ... -> i 1 ...').shape"
   ]
  },
  {
   "cell_type": "code",
   "execution_count": 26,
   "metadata": {},
   "outputs": [
    {
     "data": {
      "text/plain": [
       "torch.Size([1, 49, 2])"
      ]
     },
     "execution_count": 26,
     "metadata": {},
     "output_type": "execute_result"
    }
   ],
   "source": [
    "rearrange(grid, 'j ... -> 1 j ...').shape"
   ]
  },
  {
   "cell_type": "code",
   "execution_count": 27,
   "metadata": {},
   "outputs": [
    {
     "data": {
      "text/plain": [
       "torch.Size([49, 49, 2])"
      ]
     },
     "execution_count": 27,
     "metadata": {},
     "output_type": "execute_result"
    }
   ],
   "source": [
    "rel_pos.shape"
   ]
  },
  {
   "cell_type": "code",
   "execution_count": 28,
   "metadata": {},
   "outputs": [
    {
     "data": {
      "text/plain": [
       "torch.Size([49, 49, 2])"
      ]
     },
     "execution_count": 28,
     "metadata": {},
     "output_type": "execute_result"
    }
   ],
   "source": [
    "(rel_pos * torch.tensor([2 * window_size - 1, 1])).shape"
   ]
  },
  {
   "cell_type": "code",
   "execution_count": 29,
   "metadata": {},
   "outputs": [
    {
     "data": {
      "text/plain": [
       "(tensor([[0, 0, 0, 0, 0, 0, 0],\n",
       "         [1, 1, 1, 1, 1, 1, 1],\n",
       "         [2, 2, 2, 2, 2, 2, 2],\n",
       "         [3, 3, 3, 3, 3, 3, 3],\n",
       "         [4, 4, 4, 4, 4, 4, 4],\n",
       "         [5, 5, 5, 5, 5, 5, 5],\n",
       "         [6, 6, 6, 6, 6, 6, 6]]),\n",
       " tensor([[0, 1, 2, 3, 4, 5, 6],\n",
       "         [0, 1, 2, 3, 4, 5, 6],\n",
       "         [0, 1, 2, 3, 4, 5, 6],\n",
       "         [0, 1, 2, 3, 4, 5, 6],\n",
       "         [0, 1, 2, 3, 4, 5, 6],\n",
       "         [0, 1, 2, 3, 4, 5, 6],\n",
       "         [0, 1, 2, 3, 4, 5, 6]]))"
      ]
     },
     "execution_count": 29,
     "metadata": {},
     "output_type": "execute_result"
    }
   ],
   "source": [
    "torch.meshgrid(pos, pos, indexing = 'ij')"
   ]
  },
  {
   "cell_type": "code",
   "execution_count": 30,
   "metadata": {},
   "outputs": [
    {
     "data": {
      "text/plain": [
       "torch.Size([49, 49])"
      ]
     },
     "execution_count": 30,
     "metadata": {},
     "output_type": "execute_result"
    }
   ],
   "source": [
    "rel_pos_indices.shape"
   ]
  },
  {
   "cell_type": "code",
   "execution_count": 31,
   "metadata": {},
   "outputs": [
    {
     "data": {
      "text/plain": [
       "torch.Size([2, 7, 7])"
      ]
     },
     "execution_count": 31,
     "metadata": {},
     "output_type": "execute_result"
    }
   ],
   "source": [
    "torch.stack(torch.meshgrid(pos, pos, indexing = 'ij')).shape"
   ]
  },
  {
   "cell_type": "code",
   "execution_count": 32,
   "metadata": {},
   "outputs": [
    {
     "data": {
      "text/plain": [
       "torch.Size([49, 2])"
      ]
     },
     "execution_count": 32,
     "metadata": {},
     "output_type": "execute_result"
    }
   ],
   "source": [
    "grid.shape"
   ]
  },
  {
   "cell_type": "code",
   "execution_count": 49,
   "metadata": {},
   "outputs": [],
   "source": [
    "class Attention(nn.Module):\n",
    "    def __init__(\n",
    "        self,\n",
    "        dim,\n",
    "        dim_head = 32,\n",
    "        dropout = 0.,\n",
    "        window_size = 7\n",
    "    ):\n",
    "        super().__init__()\n",
    "        assert (dim % dim_head) == 0, 'dimension should be divisible by dimension per head'\n",
    "\n",
    "        self.heads = dim // dim_head\n",
    "        self.scale = dim_head ** -0.5\n",
    "\n",
    "        self.to_qkv = nn.Linear(dim, dim * 3, bias = False)\n",
    "\n",
    "        self.attend = nn.Sequential(\n",
    "            nn.Softmax(dim = -1),\n",
    "            nn.Dropout(dropout)\n",
    "        )\n",
    "\n",
    "        self.to_out = nn.Sequential(\n",
    "            nn.Linear(dim, dim, bias = False),\n",
    "            nn.Dropout(dropout)\n",
    "        )\n",
    "\n",
    "        # relative positional bias\n",
    "\n",
    "        self.rel_pos_bias = nn.Embedding((2 * window_size - 1) ** 2, self.heads)\n",
    "\n",
    "        pos = torch.arange(window_size)\n",
    "        grid = torch.stack(torch.meshgrid(pos, pos, indexing = 'ij'))\n",
    "        grid = rearrange(grid, 'c i j -> (i j) c')\n",
    "        rel_pos = rearrange(grid, 'i ... -> i 1 ...') - rearrange(grid, 'j ... -> 1 j ...')\n",
    "        rel_pos += window_size - 1\n",
    "        rel_pos_indices = (rel_pos * torch.tensor([2 * window_size - 1, 1])).sum(dim = -1)\n",
    "\n",
    "        self.register_buffer('rel_pos_indices', rel_pos_indices, persistent = False)\n",
    "\n",
    "    def forward(self, x):\n",
    "        batch, height, width, window_height, window_width, _, device, h = *x.shape, x.device, self.heads\n",
    "\n",
    "        # flatten\n",
    "\n",
    "        x = rearrange(x, 'b x y w1 w2 d -> (b x y) (w1 w2) d')\n",
    "\n",
    "        # project for queries, keys, values\n",
    "\n",
    "        q, k, v = self.to_qkv(x).chunk(3, dim = -1)\n",
    "\n",
    "        # split heads\n",
    "\n",
    "        q, k, v = map(lambda t: rearrange(t, 'b n (h d ) -> b h n d', h = h), (q, k, v))\n",
    "        print(q.shape)\n",
    "        print(k.shape)\n",
    "        print(v.shape)\n",
    "        # scale\n",
    "\n",
    "        q = q * self.scale\n",
    "\n",
    "        # sim\n",
    "\n",
    "        sim = einsum('b h i d, b h j d -> b h i j', q, k)\n",
    "        print(sim.shape)\n",
    "        # add positional bias\n",
    "\n",
    "        bias = self.rel_pos_bias(self.rel_pos_indices)\n",
    "        print(bias.shape)\n",
    "        sim = sim + rearrange(bias, 'i j h -> h i j')\n",
    "\n",
    "        # attention\n",
    "\n",
    "        attn = self.attend(sim)\n",
    "\n",
    "        # aggregate\n",
    "\n",
    "        out = einsum('b h i j, b h j d -> b h i d', attn, v)\n",
    "\n",
    "        # merge heads\n",
    "        print('out')\n",
    "        print(out.shape)\n",
    "\n",
    "        out = rearrange(out, 'b h (w1 w2) d -> b w1 w2 (h d)', w1 = window_height, w2 = window_width)\n",
    "\n",
    "        # combine heads out\n",
    "        print(out.shape)\n",
    "\n",
    "        out = self.to_out(out)\n",
    "        print(out.shape)\n",
    "        return rearrange(out, '(b x y) ... -> b x y ...', x = height, y = width)"
   ]
  },
  {
   "cell_type": "code",
   "execution_count": 50,
   "metadata": {},
   "outputs": [
    {
     "name": "stdout",
     "output_type": "stream",
     "text": [
      "torch.Size([8, 24, 784, 32])\n",
      "torch.Size([8, 24, 784, 32])\n",
      "torch.Size([8, 24, 784, 32])\n",
      "torch.Size([8, 24, 784, 784])\n",
      "torch.Size([784, 784, 24])\n",
      "out\n",
      "torch.Size([8, 24, 784, 32])\n",
      "torch.Size([8, 28, 28, 768])\n",
      "torch.Size([8, 28, 28, 768])\n"
     ]
    },
    {
     "data": {
      "text/plain": [
       "torch.Size([2, 2, 2, 28, 28, 768])"
      ]
     },
     "execution_count": 50,
     "metadata": {},
     "output_type": "execute_result"
    }
   ],
   "source": [
    "attn = Attention(768, 32, 0, 28)\n",
    "x = torch.randn((2, 2, 2, 28, 28, 768))\n",
    "attn(x).shape"
   ]
  }
 ],
 "metadata": {
  "kernelspec": {
   "display_name": "Python 3.9.12 64-bit",
   "language": "python",
   "name": "python3"
  },
  "language_info": {
   "codemirror_mode": {
    "name": "ipython",
    "version": 3
   },
   "file_extension": ".py",
   "mimetype": "text/x-python",
   "name": "python",
   "nbconvert_exporter": "python",
   "pygments_lexer": "ipython3",
   "version": "3.9.12"
  },
  "orig_nbformat": 4,
  "vscode": {
   "interpreter": {
    "hash": "448c60747e7ce04bfef225ceb0b037f93919a769940cfe3c5278db7a5ae07e34"
   }
  }
 },
 "nbformat": 4,
 "nbformat_minor": 2
}
